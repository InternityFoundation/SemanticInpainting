{
  "nbformat": 4,
  "nbformat_minor": 0,
  "metadata": {
    "colab": {
      "name": "Semantic Inpainting.ipynb",
      "version": "0.3.2",
      "provenance": [],
      "collapsed_sections": [],
      "include_colab_link": true
    },
    "kernelspec": {
      "display_name": "Python 3",
      "language": "python",
      "name": "python3"
    },
    "accelerator": "GPU"
  },
  "cells": [
    {
      "cell_type": "markdown",
      "metadata": {
        "id": "view-in-github",
        "colab_type": "text"
      },
      "source": [
        "[View in Colaboratory](https://colab.research.google.com/github/Yugandhartripathi/SemanticInpainting/blob/master/Semantic_Inpainting.ipynb)"
      ]
    },
    {
      "metadata": {
        "id": "2eSdw-ewlerN",
        "colab_type": "text"
      },
      "cell_type": "markdown",
      "source": [
        "\n",
        "\n",
        "\n",
        "# Semantic Inpainting"
      ]
    },
    {
      "metadata": {
        "id": "JPfs3eLVXbZM",
        "colab_type": "code",
        "colab": {
          "base_uri": "https://localhost:8080/",
          "height": 34
        },
        "outputId": "65bc7397-6521-4e35-d1fc-9f97a07ef858"
      },
      "cell_type": "code",
      "source": [
        "!ls"
      ],
      "execution_count": 1,
      "outputs": [
        {
          "output_type": "stream",
          "text": [
            "datalab\r\n"
          ],
          "name": "stdout"
        }
      ]
    },
    {
      "metadata": {
        "id": "V9O__hjGlerO",
        "colab_type": "code",
        "colab": {
          "base_uri": "https://localhost:8080/",
          "height": 106
        },
        "outputId": "e9a901b1-d5c9-41fc-ddf5-41da04265609"
      },
      "cell_type": "code",
      "source": [
        "from google.colab import files\n",
        "def getLocalFiles():\n",
        "    _files = files.upload()\n",
        "    if len(_files) >0:\n",
        "       for k,v in _files.items():\n",
        "         open(k,'wb').write(v)\n",
        "getLocalFiles()\n",
        "import numpy as np\n",
        "import tensorflow as tf\n",
        "import os,time\n",
        "from glob import glob\n",
        "\n",
        "from ops import batch_norm,linear,conv2d,deconv2d,lrelu\n",
        "from image_helpers import *"
      ],
      "execution_count": 2,
      "outputs": [
        {
          "output_type": "display_data",
          "data": {
            "text/html": [
              "\n",
              "     <input type=\"file\" id=\"files-7bf04606-e12b-4c63-87a3-e76de1c45af9\" name=\"files[]\" multiple disabled />\n",
              "     <output id=\"result-7bf04606-e12b-4c63-87a3-e76de1c45af9\">\n",
              "      Upload widget is only available when the cell has been executed in the\n",
              "      current browser session. Please rerun this cell to enable.\n",
              "      </output>\n",
              "      <script src=\"/nbextensions/google.colab/files.js\"></script> "
            ],
            "text/plain": [
              "<IPython.core.display.HTML object>"
            ]
          },
          "metadata": {
            "tags": []
          }
        },
        {
          "output_type": "stream",
          "text": [
            "Saving image_helpers.py to image_helpers.py\n",
            "Saving ops.py to ops.py\n"
          ],
          "name": "stdout"
        }
      ]
    },
    {
      "metadata": {
        "id": "NWAJmeaTlere",
        "colab_type": "code",
        "colab": {}
      },
      "cell_type": "code",
      "source": [
        "#Parameter Defintion\n",
        "is_crop=True\n",
        "batch_size=64\n",
        "image_size=108\n",
        "sample_size=64\n",
        "image_shape=[64,64,3]\n",
        "\n",
        "z_dim=100\n",
        "\n",
        "gf_dim=64\n",
        "df_dim=64\n",
        "\n",
        "learning_rate=0.0002\n",
        "beta1=0.5"
      ],
      "execution_count": 0,
      "outputs": []
    },
    {
      "metadata": {
        "id": "GjDbehMslerk",
        "colab_type": "code",
        "colab": {}
      },
      "cell_type": "code",
      "source": [
        "#Batch Normalisation objects\n",
        "d_bn1 = batch_norm(name='d_bn1')\n",
        "d_bn2 = batch_norm(name='d_bn2')\n",
        "d_bn3 = batch_norm(name='d_bn3')\n",
        "\n",
        "g_bn0 = batch_norm(name='g_bn0')\n",
        "g_bn1 = batch_norm(name='g_bn1')\n",
        "g_bn2 = batch_norm(name='g_bn2')\n",
        "g_bn3 = batch_norm(name='g_bn3')"
      ],
      "execution_count": 0,
      "outputs": []
    },
    {
      "metadata": {
        "id": "bUnwA0xPlerp",
        "colab_type": "code",
        "colab": {}
      },
      "cell_type": "code",
      "source": [
        "def discriminator(image,reuse=False):\n",
        "    if reuse:\n",
        "        tf.get_variable_scope().reuse_variables()\n",
        "        \n",
        "    h0=lrelu(conv2d(image,df_dim,name='d_h0_conv'))\n",
        "    h1=lrelu(d_bn1(conv2d(h0,df_dim*2,name='d_h1_conv')))\n",
        "    h2=lrelu(d_bn2(conv2d(h1,df_dim*4,name='d_h2_conv')))\n",
        "    h3=lrelu(d_bn3(conv2d(h2,df_dim*8,name='d_h3_conv')))\n",
        "    h4=linear(tf.reshape(h3,[batch_size,-1]),1,'d_h3_lin')\n",
        "             \n",
        "    return tf.nn.sigmoid(h4),h4"
      ],
      "execution_count": 0,
      "outputs": []
    },
    {
      "metadata": {
        "id": "gDxH1QZqler2",
        "colab_type": "code",
        "colab": {}
      },
      "cell_type": "code",
      "source": [
        "def generator(z):\n",
        "    z_=linear(z,gf_dim*8*4*4,'g_h0_lin')\n",
        "    h0=tf.nn.relu(g_bn0(tf.reshape(z_,[-1,4,4,gf_dim*8])))\n",
        "    h1=tf.nn.relu(g_bn1(deconv2d(h0,[batch_size,8,8,gf_dim*4],name='g_h1')))\n",
        "    h2=tf.nn.relu(g_bn2(deconv2d(h1,[batch_size,16,16,gf_dim*2],name='g_h2')))\n",
        "    h3=tf.nn.relu(g_bn3(deconv2d(h2,[batch_size,32,32,gf_dim*1],name='g_h3')))\n",
        "    h4 = deconv2d(h3, [batch_size, 64, 64, 3], name='g_h4')\n",
        "    \n",
        "    return tf.nn.tanh(h4)"
      ],
      "execution_count": 0,
      "outputs": []
    },
    {
      "metadata": {
        "id": "yjVC39rOler-",
        "colab_type": "code",
        "colab": {}
      },
      "cell_type": "code",
      "source": [
        "#Building model\n",
        "images=tf.placeholder(tf.float32,[batch_size]+image_shape,name='real_images')\n",
        "sample_images=tf.placeholder(tf.float32,[sample_size]+image_shape,name=\"sample_images\")\n",
        "z=tf.placeholder(tf.float32,[None,z_dim])\n",
        "\n",
        "G=generator(z)\n",
        "D,D_logits=discriminator(images)\n",
        "D_,D_logits_=discriminator(G,reuse=True)\n",
        "\n",
        "#cost fn\n",
        "d_loss_real=tf.reduce_mean(tf.nn.sigmoid_cross_entropy_with_logits(logits=D_logits,labels=tf.ones_like(D)))\n",
        "d_loss_fake=tf.reduce_mean(tf.nn.sigmoid_cross_entropy_with_logits(logits=D_logits_,labels=tf.zeros_like(D_)))\n",
        "d_loss=d_loss_real+d_loss_fake\n",
        "\n",
        "g_loss=tf.reduce_mean(tf.nn.sigmoid_cross_entropy_with_logits(logits=D_logits_,labels=tf.ones_like(D_)))\n",
        "#For image completion\n",
        "mask=tf.placeholder(tf.float32,[None]+image_shape,name=\"mask\")\n",
        "\n",
        "contextual_loss=tf.reduce_sum(tf.contrib.layers.flatten(tf.abs(tf.multiply(mask,G)-tf.multiply(mask,images))))\n",
        "perceptual_loss=g_loss\n",
        "complete_loss=contextual_loss+perceptual_loss"
      ],
      "execution_count": 0,
      "outputs": []
    },
    {
      "metadata": {
        "id": "JzEEvG1BlesH",
        "colab_type": "code",
        "colab": {}
      },
      "cell_type": "code",
      "source": [
        "#Optimizers\n",
        "t_vars=tf.trainable_variables()\n",
        "sess=tf.Session()\n",
        "sess.run(tf.global_variables_initializer())\n",
        "\n",
        "d_vars=[var for var in t_vars if 'd_' in var.name]\n",
        "g_vars=[var for var in t_vars if 'g_' in var.name]\n",
        "\n",
        "with tf.variable_scope(tf.get_variable_scope(),reuse=tf.AUTO_REUSE):\n",
        "    d_optim = tf.train.AdamOptimizer(learning_rate=learning_rate, beta1=0.5).minimize(d_loss, var_list=d_vars)\n",
        "    g_optim = tf.train.AdamOptimizer(learning_rate=learning_rate, beta1=0.5).minimize(g_loss, var_list=g_vars)\n",
        "    complete_optim=tf.train.AdamOptimizer(learning_rate).minimize(complete_loss,var_list=g_vars)"
      ],
      "execution_count": 0,
      "outputs": []
    },
    {
      "metadata": {
        "id": "1or3BT_JlesM",
        "colab_type": "text"
      },
      "cell_type": "markdown",
      "source": [
        "## Data Points"
      ]
    },
    {
      "metadata": {
        "id": "TO01psgVvCWh",
        "colab_type": "code",
        "colab": {}
      },
      "cell_type": "code",
      "source": [
        "!pip install -U -q PyDrive\n",
        "\n",
        "from pydrive.auth import GoogleAuth\n",
        "from pydrive.drive import GoogleDrive\n",
        "from google.colab import auth\n",
        "from oauth2client.client import GoogleCredentials\n",
        "\n",
        "import io\n",
        "import zipfile\n",
        "# Authenticate and create the PyDrive client.\n",
        "# This only needs to be done once per notebook.\n",
        "auth.authenticate_user()\n",
        "gauth = GoogleAuth()\n",
        "gauth.credentials = GoogleCredentials.get_application_default()\n",
        "drive = GoogleDrive(gauth)\n",
        "\n",
        "\n",
        "# Download a file based on its file ID.\n",
        "#\n",
        "# A file ID looks like: laggVyWshwcyP6kEI-y_W3P8D26sz\n",
        "file_id = '17Cl4ZeCYGzONypZo1WPiIz20x06ZgPAt' #-- Updated File ID for my zip\n",
        "downloaded = drive.CreateFile({'id': file_id})\n",
        "#print('Downloaded content \"{}\"'.format(downloaded.GetContentString(encoding='cp862')))\n",
        "downloaded.GetContentFile('img_align_celeba.zip')\n"
      ],
      "execution_count": 0,
      "outputs": []
    },
    {
      "metadata": {
        "id": "GH_pyvr-0ryr",
        "colab_type": "code",
        "colab": {
          "base_uri": "https://localhost:8080/",
          "height": 34
        },
        "outputId": "554cff1d-6899-4dc2-b76b-d58ab23c8c5f"
      },
      "cell_type": "code",
      "source": [
        "# UNZIP ZIP\n",
        "print (\"Uncompressing zip file\")\n",
        "zip_ref = zipfile.ZipFile('img_align_celeba.zip', 'r')\n",
        "zip_ref.extractall('MODEL/')\n",
        "zip_ref.close()"
      ],
      "execution_count": 37,
      "outputs": [
        {
          "output_type": "stream",
          "text": [
            "Uncompressing zip file\n"
          ],
          "name": "stdout"
        }
      ]
    },
    {
      "metadata": {
        "id": "enwTpZJalesQ",
        "colab_type": "code",
        "colab": {}
      },
      "cell_type": "code",
      "source": [
        "sess=tf.Session()\n",
        "sess.run(tf.global_variables_initializer())\n",
        "\n",
        "saver=tf.train.Saver()"
      ],
      "execution_count": 0,
      "outputs": []
    },
    {
      "metadata": {
        "id": "ie4gYG4Glesb",
        "colab_type": "code",
        "colab": {
          "base_uri": "https://localhost:8080/",
          "height": 105
        },
        "outputId": "ad597b85-e682-4a2a-ebc9-139bdedad1d3"
      },
      "cell_type": "code",
      "source": [
        "#DATASET \n",
        "data=glob(os.path.join('MODEL/img_align_celeba/','*.jpg'))\n",
        "\n",
        "sample_z=np.random.uniform(-1,1,size=(sample_size,z_dim))\n",
        "sample_files=data[0:sample_size]\n",
        "sample=[get_image(sample_file,image_size,is_crop) for sample_file in sample_files]\n",
        "sample_images=np.reshape(np.array(sample).astype(np.float32),[sample_size]+image_shape)\n"
      ],
      "execution_count": 12,
      "outputs": [
        {
          "output_type": "stream",
          "text": [
            "/usr/local/lib/python3.6/dist-packages/scipy/misc/pilutil.py:482: FutureWarning: Conversion of the second argument of issubdtype from `int` to `np.signedinteger` is deprecated. In future, it will be treated as `np.int64 == np.dtype(int).type`.\n",
            "  if issubdtype(ts, int):\n",
            "/usr/local/lib/python3.6/dist-packages/scipy/misc/pilutil.py:485: FutureWarning: Conversion of the second argument of issubdtype from `float` to `np.floating` is deprecated. In future, it will be treated as `np.float64 == np.dtype(float).type`.\n",
            "  elif issubdtype(type(size), float):\n"
          ],
          "name": "stderr"
        }
      ]
    },
    {
      "metadata": {
        "id": "mfHOnD6dlesg",
        "colab_type": "text"
      },
      "cell_type": "markdown",
      "source": [
        "## Training the model"
      ]
    },
    {
      "metadata": {
        "id": "1ZzQSafAlesi",
        "colab_type": "code",
        "colab": {
          "base_uri": "https://localhost:8080/",
          "height": 1306
        },
        "outputId": "77183133-f51c-45c5-f412-c32af7e2e482"
      },
      "cell_type": "code",
      "source": [
        "#Training\n",
        "uploadId = '1TLTtsRW366oRUdbxjWk2afqCEXvMu_t5'\n",
        "counter=1\n",
        "start_time=time.time()\n",
        "for epoch in range(20):\n",
        "    np.random.shuffle(data)\n",
        "    batchidxs=int(len(data)/batch_size)\n",
        "    \n",
        "    for idx in range(batchidxs):\n",
        "        #try:\n",
        "            batch_files=data[idx*batch_size:(idx+1)*batch_size]\n",
        "            batch=[get_image(batch_file,image_size,is_crop=is_crop) for batch_file in batch_files]\n",
        "            batch_images=np.reshape(np.array(batch).astype(np.float32),[batch_size]+image_shape)\n",
        "\n",
        "            batch_z=np.random.uniform(-1,1,[batch_size,z_dim]).astype(np.float32)\n",
        "\n",
        "            #mask\n",
        "            scale=0.25\n",
        "            mask_=np.ones([batch_size]+image_shape).astype(np.float32)\n",
        "            l=int(64*scale)\n",
        "            u=int(64*(1.0-scale))\n",
        "            mask_[:,l:u,l:u,:]=0.0\n",
        "            #inverse mask\n",
        "            scale=0.25\n",
        "            imask_=np.zeros([batch_size]+image_shape).astype(np.float32)\n",
        "            l=int(64*scale)\n",
        "            u=int(64*(1.0-scale))\n",
        "            imask_[:,l:u,l:u,:]=1.0\n",
        "            \n",
        "            \n",
        "            fd={z:batch_z,images:batch_images}\n",
        "            sess.run([g_optim,d_optim],feed_dict=fd)\n",
        "            sess.run([complete_optim],feed_dict={z:batch_z,images:batch_images,mask:mask_})\n",
        "            c_loss,dloss,gloss=sess.run([complete_loss,d_loss,g_loss],feed_dict={z:batch_z,images:batch_images,mask:mask_})\n",
        "            if np.mod(counter,500)==0:\n",
        "              print(counter,c_loss,dloss,gloss)  \n",
        "              \n",
        "            if np.mod(counter,500)==0:             \n",
        "                sample_generated,dl,gl=sess.run([G,d_loss,g_loss],feed_dict={z:sample_z,images:sample_images})\n",
        "                original_part=np.multiply(sample_images,mask_)\n",
        "                generated_part=np.multiply(sample_generated,imask_)\n",
        "                total=np.add(original_part,generated_part)\n",
        "                save_images(original_part,'input\\\\')\n",
        "                save_images(total,'final\\\\')\n",
        "                print('[Sample] d_loss: %.8f, g_loss: %.8f' % (dl, gl))\n",
        "                for i in range(20):\n",
        "                  uploaded = drive.CreateFile({'parents':[{'id': uploadId}]})\n",
        "                  uploaded.SetContentFile('input\\\\'+str(i)+'.jpg')\n",
        "                  uploaded.Upload()\n",
        "                  uploaded = drive.CreateFile({'parents':[{'id': uploadId}]})\n",
        "                  uploaded.SetContentFile('final\\\\'+str(i)+'.jpg')\n",
        "                  uploaded.Upload()\n",
        "                   \n",
        "                \n",
        "            if np.mod(counter,5000)==0:\n",
        "                modelName='ModelEpoch'+str(counter)\n",
        "                chkName = modelName+'.ckpt'\n",
        "                save_path = saver.save(sess, \"data/\"+chkName)\n",
        "                print(counter,' : done saving at',save_path)\n",
        "                print(os.getcwd())\n",
        "                metaName=chkName+\".meta\"\n",
        "                check=\"data/\"+metaName\n",
        "                uploaded = drive.CreateFile({'parents':[{'id': uploadId}] , 'title' : metaName})\n",
        "                uploaded.SetContentFile(check)\n",
        "                uploaded.Upload()\n",
        "                dataName=chkName+\".data-00000-of-00001\"\n",
        "                check=\"data/\"+dataName\n",
        "                uploaded = drive.CreateFile({'parents':[{'id': uploadId}] , 'title' : dataName})\n",
        "                uploaded.SetContentFile(check)\n",
        "                uploaded.Upload()\n",
        "                indexName=chkName+\".index\"\n",
        "                check=\"data/\"+indexName\n",
        "                uploaded = drive.CreateFile({'parents':[{'id': uploadId}] , 'title' : indexName})\n",
        "                uploaded.SetContentFile(check)\n",
        "                uploaded.Upload()\n",
        "            counter+=1\n"
      ],
      "execution_count": 38,
      "outputs": [
        {
          "output_type": "stream",
          "text": [
            "/usr/local/lib/python3.6/dist-packages/scipy/misc/pilutil.py:482: FutureWarning: Conversion of the second argument of issubdtype from `int` to `np.signedinteger` is deprecated. In future, it will be treated as `np.int64 == np.dtype(int).type`.\n",
            "  if issubdtype(ts, int):\n",
            "/usr/local/lib/python3.6/dist-packages/scipy/misc/pilutil.py:485: FutureWarning: Conversion of the second argument of issubdtype from `float` to `np.floating` is deprecated. In future, it will be treated as `np.float64 == np.dtype(float).type`.\n",
            "  elif issubdtype(type(size), float):\n"
          ],
          "name": "stderr"
        },
        {
          "output_type": "stream",
          "text": [
            "500 288752.47 0.03472829 4.2817307\n",
            "[Sample] d_loss: 0.12909032, g_loss: 4.49697447\n"
          ],
          "name": "stdout"
        },
        {
          "output_type": "error",
          "ename": "ApiRequestError",
          "evalue": "ignored",
          "traceback": [
            "\u001b[0;31m---------------------------------------------------------------------------\u001b[0m",
            "\u001b[0;31mHttpError\u001b[0m                                 Traceback (most recent call last)",
            "\u001b[0;32m/usr/local/lib/python3.6/dist-packages/pydrive/files.py\u001b[0m in \u001b[0;36m_FilesInsert\u001b[0;34m(self, param)\u001b[0m\n\u001b[1;32m    368\u001b[0m       metadata = self.auth.service.files().insert(**param).execute(\n\u001b[0;32m--> 369\u001b[0;31m         http=self.http)\n\u001b[0m\u001b[1;32m    370\u001b[0m     \u001b[0;32mexcept\u001b[0m \u001b[0merrors\u001b[0m\u001b[0;34m.\u001b[0m\u001b[0mHttpError\u001b[0m \u001b[0;32mas\u001b[0m \u001b[0merror\u001b[0m\u001b[0;34m:\u001b[0m\u001b[0;34m\u001b[0m\u001b[0m\n",
            "\u001b[0;32m/usr/local/lib/python3.6/dist-packages/googleapiclient/_helpers.py\u001b[0m in \u001b[0;36mpositional_wrapper\u001b[0;34m(*args, **kwargs)\u001b[0m\n\u001b[1;32m    129\u001b[0m                     \u001b[0mlogger\u001b[0m\u001b[0;34m.\u001b[0m\u001b[0mwarning\u001b[0m\u001b[0;34m(\u001b[0m\u001b[0mmessage\u001b[0m\u001b[0;34m)\u001b[0m\u001b[0;34m\u001b[0m\u001b[0m\n\u001b[0;32m--> 130\u001b[0;31m             \u001b[0;32mreturn\u001b[0m \u001b[0mwrapped\u001b[0m\u001b[0;34m(\u001b[0m\u001b[0;34m*\u001b[0m\u001b[0margs\u001b[0m\u001b[0;34m,\u001b[0m \u001b[0;34m**\u001b[0m\u001b[0mkwargs\u001b[0m\u001b[0;34m)\u001b[0m\u001b[0;34m\u001b[0m\u001b[0m\n\u001b[0m\u001b[1;32m    131\u001b[0m         \u001b[0;32mreturn\u001b[0m \u001b[0mpositional_wrapper\u001b[0m\u001b[0;34m\u001b[0m\u001b[0m\n",
            "\u001b[0;32m/usr/local/lib/python3.6/dist-packages/googleapiclient/http.py\u001b[0m in \u001b[0;36mexecute\u001b[0;34m(self, http, num_retries)\u001b[0m\n\u001b[1;32m    810\u001b[0m       \u001b[0;32mwhile\u001b[0m \u001b[0mbody\u001b[0m \u001b[0;32mis\u001b[0m \u001b[0;32mNone\u001b[0m\u001b[0;34m:\u001b[0m\u001b[0;34m\u001b[0m\u001b[0m\n\u001b[0;32m--> 811\u001b[0;31m         \u001b[0m_\u001b[0m\u001b[0;34m,\u001b[0m \u001b[0mbody\u001b[0m \u001b[0;34m=\u001b[0m \u001b[0mself\u001b[0m\u001b[0;34m.\u001b[0m\u001b[0mnext_chunk\u001b[0m\u001b[0;34m(\u001b[0m\u001b[0mhttp\u001b[0m\u001b[0;34m=\u001b[0m\u001b[0mhttp\u001b[0m\u001b[0;34m,\u001b[0m \u001b[0mnum_retries\u001b[0m\u001b[0;34m=\u001b[0m\u001b[0mnum_retries\u001b[0m\u001b[0;34m)\u001b[0m\u001b[0;34m\u001b[0m\u001b[0m\n\u001b[0m\u001b[1;32m    812\u001b[0m       \u001b[0;32mreturn\u001b[0m \u001b[0mbody\u001b[0m\u001b[0;34m\u001b[0m\u001b[0m\n",
            "\u001b[0;32m/usr/local/lib/python3.6/dist-packages/googleapiclient/_helpers.py\u001b[0m in \u001b[0;36mpositional_wrapper\u001b[0;34m(*args, **kwargs)\u001b[0m\n\u001b[1;32m    129\u001b[0m                     \u001b[0mlogger\u001b[0m\u001b[0;34m.\u001b[0m\u001b[0mwarning\u001b[0m\u001b[0;34m(\u001b[0m\u001b[0mmessage\u001b[0m\u001b[0;34m)\u001b[0m\u001b[0;34m\u001b[0m\u001b[0m\n\u001b[0;32m--> 130\u001b[0;31m             \u001b[0;32mreturn\u001b[0m \u001b[0mwrapped\u001b[0m\u001b[0;34m(\u001b[0m\u001b[0;34m*\u001b[0m\u001b[0margs\u001b[0m\u001b[0;34m,\u001b[0m \u001b[0;34m**\u001b[0m\u001b[0mkwargs\u001b[0m\u001b[0;34m)\u001b[0m\u001b[0;34m\u001b[0m\u001b[0m\n\u001b[0m\u001b[1;32m    131\u001b[0m         \u001b[0;32mreturn\u001b[0m \u001b[0mpositional_wrapper\u001b[0m\u001b[0;34m\u001b[0m\u001b[0m\n",
            "\u001b[0;32m/usr/local/lib/python3.6/dist-packages/googleapiclient/http.py\u001b[0m in \u001b[0;36mnext_chunk\u001b[0;34m(self, http, num_retries)\u001b[0m\n\u001b[1;32m    978\u001b[0m \u001b[0;34m\u001b[0m\u001b[0m\n\u001b[0;32m--> 979\u001b[0;31m     \u001b[0;32mreturn\u001b[0m \u001b[0mself\u001b[0m\u001b[0;34m.\u001b[0m\u001b[0m_process_response\u001b[0m\u001b[0;34m(\u001b[0m\u001b[0mresp\u001b[0m\u001b[0;34m,\u001b[0m \u001b[0mcontent\u001b[0m\u001b[0;34m)\u001b[0m\u001b[0;34m\u001b[0m\u001b[0m\n\u001b[0m\u001b[1;32m    980\u001b[0m \u001b[0;34m\u001b[0m\u001b[0m\n",
            "\u001b[0;32m/usr/local/lib/python3.6/dist-packages/googleapiclient/http.py\u001b[0m in \u001b[0;36m_process_response\u001b[0;34m(self, resp, content)\u001b[0m\n\u001b[1;32m   1009\u001b[0m       \u001b[0mself\u001b[0m\u001b[0;34m.\u001b[0m\u001b[0m_in_error_state\u001b[0m \u001b[0;34m=\u001b[0m \u001b[0;32mTrue\u001b[0m\u001b[0;34m\u001b[0m\u001b[0m\n\u001b[0;32m-> 1010\u001b[0;31m       \u001b[0;32mraise\u001b[0m \u001b[0mHttpError\u001b[0m\u001b[0;34m(\u001b[0m\u001b[0mresp\u001b[0m\u001b[0;34m,\u001b[0m \u001b[0mcontent\u001b[0m\u001b[0;34m,\u001b[0m \u001b[0muri\u001b[0m\u001b[0;34m=\u001b[0m\u001b[0mself\u001b[0m\u001b[0;34m.\u001b[0m\u001b[0muri\u001b[0m\u001b[0;34m)\u001b[0m\u001b[0;34m\u001b[0m\u001b[0m\n\u001b[0m\u001b[1;32m   1011\u001b[0m \u001b[0;34m\u001b[0m\u001b[0m\n",
            "\u001b[0;31mHttpError\u001b[0m: <HttpError 503 when requesting https://www.googleapis.com/upload/drive/v2/files?alt=json&uploadType=resumable returned \"Service Unavailable\">",
            "\nDuring handling of the above exception, another exception occurred:\n",
            "\u001b[0;31mApiRequestError\u001b[0m                           Traceback (most recent call last)",
            "\u001b[0;32m<ipython-input-38-d6a2294da217>\u001b[0m in \u001b[0;36m<module>\u001b[0;34m()\u001b[0m\n\u001b[1;32m     49\u001b[0m                   \u001b[0muploaded\u001b[0m \u001b[0;34m=\u001b[0m \u001b[0mdrive\u001b[0m\u001b[0;34m.\u001b[0m\u001b[0mCreateFile\u001b[0m\u001b[0;34m(\u001b[0m\u001b[0;34m{\u001b[0m\u001b[0;34m'parents'\u001b[0m\u001b[0;34m:\u001b[0m\u001b[0;34m[\u001b[0m\u001b[0;34m{\u001b[0m\u001b[0;34m'id'\u001b[0m\u001b[0;34m:\u001b[0m \u001b[0muploadId\u001b[0m\u001b[0;34m}\u001b[0m\u001b[0;34m]\u001b[0m\u001b[0;34m}\u001b[0m\u001b[0;34m)\u001b[0m\u001b[0;34m\u001b[0m\u001b[0m\n\u001b[1;32m     50\u001b[0m                   \u001b[0muploaded\u001b[0m\u001b[0;34m.\u001b[0m\u001b[0mSetContentFile\u001b[0m\u001b[0;34m(\u001b[0m\u001b[0;34m'final\\\\'\u001b[0m\u001b[0;34m+\u001b[0m\u001b[0mstr\u001b[0m\u001b[0;34m(\u001b[0m\u001b[0mi\u001b[0m\u001b[0;34m)\u001b[0m\u001b[0;34m+\u001b[0m\u001b[0;34m'.jpg'\u001b[0m\u001b[0;34m)\u001b[0m\u001b[0;34m\u001b[0m\u001b[0m\n\u001b[0;32m---> 51\u001b[0;31m                   \u001b[0muploaded\u001b[0m\u001b[0;34m.\u001b[0m\u001b[0mUpload\u001b[0m\u001b[0;34m(\u001b[0m\u001b[0;34m)\u001b[0m\u001b[0;34m\u001b[0m\u001b[0m\n\u001b[0m\u001b[1;32m     52\u001b[0m \u001b[0;34m\u001b[0m\u001b[0m\n\u001b[1;32m     53\u001b[0m \u001b[0;34m\u001b[0m\u001b[0m\n",
            "\u001b[0;32m/usr/local/lib/python3.6/dist-packages/pydrive/files.py\u001b[0m in \u001b[0;36mUpload\u001b[0;34m(self, param)\u001b[0m\n\u001b[1;32m    283\u001b[0m         \u001b[0mself\u001b[0m\u001b[0;34m.\u001b[0m\u001b[0m_FilesPatch\u001b[0m\u001b[0;34m(\u001b[0m\u001b[0mparam\u001b[0m\u001b[0;34m=\u001b[0m\u001b[0mparam\u001b[0m\u001b[0;34m)\u001b[0m\u001b[0;34m\u001b[0m\u001b[0m\n\u001b[1;32m    284\u001b[0m     \u001b[0;32melse\u001b[0m\u001b[0;34m:\u001b[0m\u001b[0;34m\u001b[0m\u001b[0m\n\u001b[0;32m--> 285\u001b[0;31m       \u001b[0mself\u001b[0m\u001b[0;34m.\u001b[0m\u001b[0m_FilesInsert\u001b[0m\u001b[0;34m(\u001b[0m\u001b[0mparam\u001b[0m\u001b[0;34m=\u001b[0m\u001b[0mparam\u001b[0m\u001b[0;34m)\u001b[0m\u001b[0;34m\u001b[0m\u001b[0m\n\u001b[0m\u001b[1;32m    286\u001b[0m \u001b[0;34m\u001b[0m\u001b[0m\n\u001b[1;32m    287\u001b[0m   \u001b[0;32mdef\u001b[0m \u001b[0mTrash\u001b[0m\u001b[0;34m(\u001b[0m\u001b[0mself\u001b[0m\u001b[0;34m,\u001b[0m \u001b[0mparam\u001b[0m\u001b[0;34m=\u001b[0m\u001b[0;32mNone\u001b[0m\u001b[0;34m)\u001b[0m\u001b[0;34m:\u001b[0m\u001b[0;34m\u001b[0m\u001b[0m\n",
            "\u001b[0;32m/usr/local/lib/python3.6/dist-packages/pydrive/auth.py\u001b[0m in \u001b[0;36m_decorated\u001b[0;34m(self, *args, **kwargs)\u001b[0m\n\u001b[1;32m     73\u001b[0m       \u001b[0mself\u001b[0m\u001b[0;34m.\u001b[0m\u001b[0mhttp\u001b[0m \u001b[0;34m=\u001b[0m \u001b[0mself\u001b[0m\u001b[0;34m.\u001b[0m\u001b[0mauth\u001b[0m\u001b[0;34m.\u001b[0m\u001b[0mGet_Http_Object\u001b[0m\u001b[0;34m(\u001b[0m\u001b[0;34m)\u001b[0m\u001b[0;34m\u001b[0m\u001b[0m\n\u001b[1;32m     74\u001b[0m \u001b[0;34m\u001b[0m\u001b[0m\n\u001b[0;32m---> 75\u001b[0;31m     \u001b[0;32mreturn\u001b[0m \u001b[0mdecoratee\u001b[0m\u001b[0;34m(\u001b[0m\u001b[0mself\u001b[0m\u001b[0;34m,\u001b[0m \u001b[0;34m*\u001b[0m\u001b[0margs\u001b[0m\u001b[0;34m,\u001b[0m \u001b[0;34m**\u001b[0m\u001b[0mkwargs\u001b[0m\u001b[0;34m)\u001b[0m\u001b[0;34m\u001b[0m\u001b[0m\n\u001b[0m\u001b[1;32m     76\u001b[0m   \u001b[0;32mreturn\u001b[0m \u001b[0m_decorated\u001b[0m\u001b[0;34m\u001b[0m\u001b[0m\n\u001b[1;32m     77\u001b[0m \u001b[0;34m\u001b[0m\u001b[0m\n",
            "\u001b[0;32m/usr/local/lib/python3.6/dist-packages/pydrive/files.py\u001b[0m in \u001b[0;36m_FilesInsert\u001b[0;34m(self, param)\u001b[0m\n\u001b[1;32m    369\u001b[0m         http=self.http)\n\u001b[1;32m    370\u001b[0m     \u001b[0;32mexcept\u001b[0m \u001b[0merrors\u001b[0m\u001b[0;34m.\u001b[0m\u001b[0mHttpError\u001b[0m \u001b[0;32mas\u001b[0m \u001b[0merror\u001b[0m\u001b[0;34m:\u001b[0m\u001b[0;34m\u001b[0m\u001b[0m\n\u001b[0;32m--> 371\u001b[0;31m       \u001b[0;32mraise\u001b[0m \u001b[0mApiRequestError\u001b[0m\u001b[0;34m(\u001b[0m\u001b[0merror\u001b[0m\u001b[0;34m)\u001b[0m\u001b[0;34m\u001b[0m\u001b[0m\n\u001b[0m\u001b[1;32m    372\u001b[0m     \u001b[0;32melse\u001b[0m\u001b[0;34m:\u001b[0m\u001b[0;34m\u001b[0m\u001b[0m\n\u001b[1;32m    373\u001b[0m       \u001b[0mself\u001b[0m\u001b[0;34m.\u001b[0m\u001b[0muploaded\u001b[0m \u001b[0;34m=\u001b[0m \u001b[0;32mTrue\u001b[0m\u001b[0;34m\u001b[0m\u001b[0m\n",
            "\u001b[0;31mApiRequestError\u001b[0m: <HttpError 503 when requesting https://www.googleapis.com/upload/drive/v2/files?alt=json&uploadType=resumable returned \"Service Unavailable\">"
          ]
        }
      ]
    },
    {
      "metadata": {
        "id": "ycKsIa5Blesu",
        "colab_type": "text"
      },
      "cell_type": "markdown",
      "source": [
        "## Saving the model"
      ]
    },
    {
      "metadata": {
        "id": "CChRZLpZles_",
        "colab_type": "text"
      },
      "cell_type": "markdown",
      "source": [
        ""
      ]
    },
    {
      "metadata": {
        "id": "l7jS06Jan2Jg",
        "colab_type": "code",
        "colab": {
          "base_uri": "https://localhost:8080/",
          "height": 595
        },
        "outputId": "2bbb49c3-dc83-43ed-f1d1-d6a341f7baf4"
      },
      "cell_type": "code",
      "source": [
        "!ls"
      ],
      "execution_count": 31,
      "outputs": [
        {
          "output_type": "stream",
          "text": [
            "datalab       image\\3.jpg\t    ops.py\t    samples\\39.jpg\r\n",
            "image\\0.jpg   image\\40.jpg\t    __pycache__     samples\\3.jpg\r\n",
            "image\\10.jpg  image\\41.jpg\t    samples\\0.jpg   samples\\40.jpg\r\n",
            "image\\11.jpg  image\\42.jpg\t    samples\\10.jpg  samples\\41.jpg\r\n",
            "image\\12.jpg  image\\43.jpg\t    samples\\11.jpg  samples\\42.jpg\r\n",
            "image\\13.jpg  image\\44.jpg\t    samples\\12.jpg  samples\\43.jpg\r\n",
            "image\\14.jpg  image\\45.jpg\t    samples\\13.jpg  samples\\44.jpg\r\n",
            "image\\15.jpg  image\\46.jpg\t    samples\\14.jpg  samples\\45.jpg\r\n",
            "image\\16.jpg  image\\47.jpg\t    samples\\15.jpg  samples\\46.jpg\r\n",
            "image\\17.jpg  image\\48.jpg\t    samples\\16.jpg  samples\\47.jpg\r\n",
            "image\\18.jpg  image\\49.jpg\t    samples\\17.jpg  samples\\48.jpg\r\n",
            "image\\19.jpg  image\\4.jpg\t    samples\\18.jpg  samples\\49.jpg\r\n",
            "image\\1.jpg   image\\50.jpg\t    samples\\19.jpg  samples\\4.jpg\r\n",
            "image\\20.jpg  image\\51.jpg\t    samples\\1.jpg   samples\\50.jpg\r\n",
            "image\\21.jpg  image\\52.jpg\t    samples\\20.jpg  samples\\51.jpg\r\n",
            "image\\22.jpg  image\\53.jpg\t    samples\\21.jpg  samples\\52.jpg\r\n",
            "image\\23.jpg  image\\54.jpg\t    samples\\22.jpg  samples\\53.jpg\r\n",
            "image\\24.jpg  image\\55.jpg\t    samples\\23.jpg  samples\\54.jpg\r\n",
            "image\\25.jpg  image\\56.jpg\t    samples\\24.jpg  samples\\55.jpg\r\n",
            "image\\26.jpg  image\\57.jpg\t    samples\\25.jpg  samples\\56.jpg\r\n",
            "image\\27.jpg  image\\58.jpg\t    samples\\26.jpg  samples\\57.jpg\r\n",
            "image\\28.jpg  image\\59.jpg\t    samples\\27.jpg  samples\\58.jpg\r\n",
            "image\\29.jpg  image\\5.jpg\t    samples\\28.jpg  samples\\59.jpg\r\n",
            "image\\2.jpg   image\\60.jpg\t    samples\\29.jpg  samples\\5.jpg\r\n",
            "image\\30.jpg  image\\61.jpg\t    samples\\2.jpg   samples\\60.jpg\r\n",
            "image\\31.jpg  image\\62.jpg\t    samples\\30.jpg  samples\\61.jpg\r\n",
            "image\\32.jpg  image\\63.jpg\t    samples\\31.jpg  samples\\62.jpg\r\n",
            "image\\33.jpg  image\\6.jpg\t    samples\\32.jpg  samples\\63.jpg\r\n",
            "image\\34.jpg  image\\7.jpg\t    samples\\33.jpg  samples\\6.jpg\r\n",
            "image\\35.jpg  image\\8.jpg\t    samples\\34.jpg  samples\\7.jpg\r\n",
            "image\\36.jpg  image\\9.jpg\t    samples\\35.jpg  samples\\8.jpg\r\n",
            "image\\37.jpg  image_helpers.py\t    samples\\36.jpg  samples\\9.jpg\r\n",
            "image\\38.jpg  img_align_celeba.zip  samples\\37.jpg\r\n",
            "image\\39.jpg  MODEL\t\t    samples\\38.jpg\r\n"
          ],
          "name": "stdout"
        }
      ]
    },
    {
      "metadata": {
        "id": "bVqGjBQ41xkF",
        "colab_type": "code",
        "colab": {
          "base_uri": "https://localhost:8080/",
          "height": 72
        },
        "outputId": "7f942633-c344-41b6-90f7-eacc4e65473a"
      },
      "cell_type": "code",
      "source": [
        "def getLocalFiles():\n",
        "    _files = files.upload()\n",
        "    if len(_files) >0:\n",
        "       for k,v in _files.items():\n",
        "         open(k,'wb').write(v)\n",
        "getLocalFiles()"
      ],
      "execution_count": 0,
      "outputs": [
        {
          "output_type": "display_data",
          "data": {
            "text/html": [
              "\n",
              "     <input type=\"file\" id=\"files-b64bdac9-356a-4d4e-9b91-2c9b74e152e4\" name=\"files[]\" multiple disabled />\n",
              "     <output id=\"result-b64bdac9-356a-4d4e-9b91-2c9b74e152e4\">\n",
              "      Upload widget is only available when the cell has been executed in the\n",
              "      current browser session. Please rerun this cell to enable.\n",
              "      </output>\n",
              "      <script src=\"/nbextensions/google.colab/files.js\"></script> "
            ],
            "text/plain": [
              "<IPython.core.display.HTML object>"
            ]
          },
          "metadata": {
            "tags": []
          }
        },
        {
          "output_type": "stream",
          "text": [
            "Saving ModelEpoch5500.data-00000-of-00001 to ModelEpoch5500.data-00000-of-00001\n"
          ],
          "name": "stdout"
        }
      ]
    }
  ]
}